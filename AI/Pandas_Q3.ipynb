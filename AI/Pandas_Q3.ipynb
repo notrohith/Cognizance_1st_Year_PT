{
  "nbformat": 4,
  "nbformat_minor": 0,
  "metadata": {
    "colab": {
      "provenance": []
    },
    "kernelspec": {
      "name": "python3",
      "display_name": "Python 3"
    },
    "language_info": {
      "name": "python"
    }
  },
  "cells": [
    {
      "cell_type": "code",
      "execution_count": 2,
      "metadata": {
        "colab": {
          "base_uri": "https://localhost:8080/"
        },
        "id": "uwKb7hFc6o6G",
        "outputId": "ae138050-dd46-4306-fdc8-b6ef200e48d5"
      },
      "outputs": [
        {
          "output_type": "stream",
          "name": "stdout",
          "text": [
            "Age\n",
            "19    4\n",
            "20    3\n",
            "18    2\n",
            "21    2\n",
            "22    2\n",
            "23    1\n",
            "24    1\n",
            "Name: count, dtype: int64\n"
          ]
        }
      ],
      "source": [
        "import pandas as pd\n",
        "data = [\n",
        "    [170, 65, 19, 85, 5],\n",
        "    [180, 75, 20, 90, 6],\n",
        "    [160, 55, 18, 80, 4],\n",
        "    [175, 70, 21, 88, 7],\n",
        "    [155, 50, 19, 82, 5],\n",
        "    [165, 62, 22, 89, 6],\n",
        "    [178, 80, 23, 91, 7],\n",
        "    [162, 58, 20, 78, 3],\n",
        "    [172, 68, 19, 86, 5],\n",
        "    [169, 66, 20, 84, 4],\n",
        "    [171, 64, 22, 87, 6],\n",
        "    [177, 72, 21, 90, 9],\n",
        "    [174, 76, 24, 88, 8],\n",
        "    [158, 52, 18, 75, 3],\n",
        "    [164, 63, 19, 81, 4]\n",
        "]\n",
        "\n",
        "column = ['Height', 'Weight', 'Age', 'AvgGrade', 'Courses']\n",
        "\n",
        "dataframe = pd.DataFrame(data, columns=column)\n",
        "count=dataframe['Age'].value_counts()\n",
        "print(count)"
      ]
    },
    {
      "cell_type": "code",
      "source": [],
      "metadata": {
        "id": "lqXSOO_B9wGm"
      },
      "execution_count": null,
      "outputs": []
    }
  ]
}