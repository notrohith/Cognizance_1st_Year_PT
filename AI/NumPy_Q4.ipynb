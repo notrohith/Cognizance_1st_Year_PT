{
  "nbformat": 4,
  "nbformat_minor": 0,
  "metadata": {
    "colab": {
      "provenance": []
    },
    "kernelspec": {
      "name": "python3",
      "display_name": "Python 3"
    },
    "language_info": {
      "name": "python"
    }
  },
  "cells": [
    {
      "cell_type": "code",
      "execution_count": 3,
      "metadata": {
        "colab": {
          "base_uri": "https://localhost:8080/"
        },
        "id": "wNo9It_j2CtZ",
        "outputId": "d82b5eaf-38b9-4fd6-a113-3ede2963851a"
      },
      "outputs": [
        {
          "output_type": "stream",
          "name": "stdout",
          "text": [
            "The sum of students having average grade above 85 is:  8\n"
          ]
        }
      ],
      "source": [
        "import numpy as np\n",
        "data = np.array([\n",
        "    [170, 65, 19, 85, 5],\n",
        "    [180, 75, 20, 90, 6],\n",
        "    [160, 55, 18, 80, 4],\n",
        "    [175, 70, 21, 88, 7],\n",
        "    [155, 50, 19, 82, 5],\n",
        "    [165, 62, 22, 89, 6],\n",
        "    [178, 80, 23, 91, 7],\n",
        "    [162, 58, 20, 78, 3],\n",
        "    [172, 68, 19, 86, 5],\n",
        "    [169, 66, 20, 84, 4],\n",
        "    [171, 64, 22, 87, 6],\n",
        "    [177, 72, 21, 90, 9],\n",
        "    [174, 76, 24, 88, 8],\n",
        "    [158, 52, 18, 75, 3],\n",
        "    [164, 63, 19, 81, 4]\n",
        "])\n",
        "avggrade = data[:, 3]\n",
        "avg85 = avggrade> 85\n",
        "print(\"The sum of students having average grade above 85 is: \",np.sum(avg85))\n"
      ]
    }
  ]
}