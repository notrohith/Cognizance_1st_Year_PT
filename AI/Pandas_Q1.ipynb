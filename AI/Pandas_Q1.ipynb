{
  "nbformat": 4,
  "nbformat_minor": 0,
  "metadata": {
    "colab": {
      "provenance": []
    },
    "kernelspec": {
      "name": "python3",
      "display_name": "Python 3"
    },
    "language_info": {
      "name": "python"
    }
  },
  "cells": [
    {
      "cell_type": "code",
      "execution_count": 1,
      "metadata": {
        "colab": {
          "base_uri": "https://localhost:8080/"
        },
        "id": "293uq4XC6oQH",
        "outputId": "1d59e702-c61d-4242-e5d9-4a655b2e6b3f"
      },
      "outputs": [
        {
          "output_type": "stream",
          "name": "stdout",
          "text": [
            "    Height  Weight  Age  AvgGrade  Courses\n",
            "0      170      65   19        85        5\n",
            "1      180      75   20        90        6\n",
            "2      160      55   18        80        4\n",
            "3      175      70   21        88        7\n",
            "4      155      50   19        82        5\n",
            "5      165      62   22        89        6\n",
            "6      178      80   23        91        7\n",
            "7      162      58   20        78        3\n",
            "8      172      68   19        86        5\n",
            "9      169      66   20        84        4\n",
            "10     171      64   22        87        6\n",
            "11     177      72   21        90        9\n",
            "12     174      76   24        88        8\n",
            "13     158      52   18        75        3\n",
            "14     164      63   19        81        4\n"
          ]
        }
      ],
      "source": [
        "import pandas as pd\n",
        "data = [\n",
        "    [170, 65, 19, 85, 5],\n",
        "    [180, 75, 20, 90, 6],\n",
        "    [160, 55, 18, 80, 4],\n",
        "    [175, 70, 21, 88, 7],\n",
        "    [155, 50, 19, 82, 5],\n",
        "    [165, 62, 22, 89, 6],\n",
        "    [178, 80, 23, 91, 7],\n",
        "    [162, 58, 20, 78, 3],\n",
        "    [172, 68, 19, 86, 5],\n",
        "    [169, 66, 20, 84, 4],\n",
        "    [171, 64, 22, 87, 6],\n",
        "    [177, 72, 21, 90, 9],\n",
        "    [174, 76, 24, 88, 8],\n",
        "    [158, 52, 18, 75, 3],\n",
        "    [164, 63, 19, 81, 4]\n",
        "]\n",
        "\n",
        "column = ['Height', 'Weight', 'Age', 'AvgGrade', 'Courses']\n",
        "\n",
        "dataframe = pd.DataFrame(data, columns=column)\n",
        "print(dataframe)\n"
      ]
    }
  ]
}