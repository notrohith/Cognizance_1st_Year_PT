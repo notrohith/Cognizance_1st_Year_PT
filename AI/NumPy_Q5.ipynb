{
  "nbformat": 4,
  "nbformat_minor": 0,
  "metadata": {
    "colab": {
      "provenance": []
    },
    "kernelspec": {
      "name": "python3",
      "display_name": "Python 3"
    },
    "language_info": {
      "name": "python"
    }
  },
  "cells": [
    {
      "cell_type": "code",
      "execution_count": 1,
      "metadata": {
        "colab": {
          "base_uri": "https://localhost:8080/"
        },
        "id": "YYnY8RC22MIv",
        "outputId": "9164f68f-3db5-49b5-8fc8-8255da26e254"
      },
      "outputs": [
        {
          "output_type": "stream",
          "name": "stdout",
          "text": [
            "The Ratio of a Student’s Age to Their Average Grade for Each Student:  [0.22352941 0.22222222 0.225      0.23863636 0.23170732 0.24719101\n",
            " 0.25274725 0.25641026 0.22093023 0.23809524 0.25287356 0.23333333\n",
            " 0.27272727 0.24       0.2345679 ]\n"
          ]
        }
      ],
      "source": [
        "import numpy as np\n",
        "data = np.array([\n",
        "    [170, 65, 19, 85, 5],\n",
        "    [180, 75, 20, 90, 6],\n",
        "    [160, 55, 18, 80, 4],\n",
        "    [175, 70, 21, 88, 7],\n",
        "    [155, 50, 19, 82, 5],\n",
        "    [165, 62, 22, 89, 6],\n",
        "    [178, 80, 23, 91, 7],\n",
        "    [162, 58, 20, 78, 3],\n",
        "    [172, 68, 19, 86, 5],\n",
        "    [169, 66, 20, 84, 4],\n",
        "    [171, 64, 22, 87, 6],\n",
        "    [177, 72, 21, 90, 9],\n",
        "    [174, 76, 24, 88, 8],\n",
        "    [158, 52, 18, 75, 3],\n",
        "    [164, 63, 19, 81, 4]\n",
        "])\n",
        "\n",
        "age = data[ : ,2]\n",
        "avggrade=data[ : , 3]\n",
        "ratio = age/avggrade\n",
        "print(\"The Ratio of a Student’s Age to Their Average Grade for Each Student: \",ratio)\n",
        "\n"
      ]
    }
  ]
}